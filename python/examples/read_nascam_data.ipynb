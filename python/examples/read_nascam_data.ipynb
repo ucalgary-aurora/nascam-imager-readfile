{
 "cells": [
  {
   "cell_type": "code",
   "execution_count": null,
   "metadata": {},
   "outputs": [],
   "source": []
  }
 ],
 "metadata": {
  "interpreter": {
   "hash": "5dff08b4bee2c74b6acfe5f2d006be5050c177c3b7dc8fa5efbb7f7b5df7f57c"
  },
  "kernelspec": {
   "display_name": "Python 3.8.13 ('nascam-imager-readfile')",
   "language": "python",
   "name": "python3"
  },
  "language_info": {
   "name": "python",
   "version": "3.8.13"
  },
  "orig_nbformat": 4
 },
 "nbformat": 4,
 "nbformat_minor": 2
}
